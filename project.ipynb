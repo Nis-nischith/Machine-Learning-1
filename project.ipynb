{
  "nbformat": 4,
  "nbformat_minor": 0,
  "metadata": {
    "colab": {
      "provenance": []
    },
    "kernelspec": {
      "name": "python3",
      "display_name": "Python 3"
    },
    "language_info": {
      "name": "python"
    }
  },
  "cells": [
    {
      "cell_type": "code",
      "execution_count": 16,
      "metadata": {
        "id": "447R0crHSoqm"
      },
      "outputs": [],
      "source": [
        "import pandas as pd\n",
        "import numpy as np\n",
        "import tensorflow as tf\n",
        "import keras\n",
        "from keras.models import Model\n",
        "from keras.layers import Input\n",
        "from keras.layers import Dense\n",
        "from keras.layers import Flatten\n",
        "from keras.layers import Conv2D\n",
        "from keras.layers import MaxPooling2D, ReLU, Dropout\n",
        "from keras.optimizers.legacy import Adam\n",
        "from keras.preprocessing.image import ImageDataGenerator"
      ]
    },
    {
      "cell_type": "code",
      "source": [
        "batch_size = 32\n",
        "EPOCHS = 10\n",
        "NUM_CLASSES = 26\n",
        "image_size = (28, 28, 1)\n",
        "droupout_rate = 0.2"
      ],
      "metadata": {
        "id": "HgsGgSxXUeNS"
      },
      "execution_count": 17,
      "outputs": []
    },
    {
      "cell_type": "code",
      "source": [
        "# building model\n",
        "inputs = Input(shape= image_size)\n",
        "conv1 = Conv2D(filters=32, kernel_size=(3, 3), strides=1)(inputs)\n",
        "relu1 = ReLU()(conv1)\n",
        "conv2 = Conv2D(filters=64, kernel_size=(3, 3), strides=1)(relu1)\n",
        "relu2 = ReLU()(conv2)\n",
        "mxpool = MaxPooling2D(pool_size=(2, 2))(relu2)\n",
        "flatten = Flatten()(mxpool)\n",
        "dense = Dense(128, activation='relu')(flatten)\n",
        "dropout = Dropout(droupout_rate)(dense)\n",
        "outputs = Dense(NUM_CLASSES, activation='softmax')(dropout)\n",
        "model = Model(inputs=inputs, outputs=outputs)"
      ],
      "metadata": {
        "id": "JtD1STawUerN"
      },
      "execution_count": 18,
      "outputs": []
    },
    {
      "cell_type": "code",
      "source": [
        "# defining dataset size\n",
        "dataset = 27455\n",
        "# defining the dataset split\n",
        "train_ratio = 0.7\n",
        "test_ratio = 0.3"
      ],
      "metadata": {
        "id": "Re0V98RqUqOd"
      },
      "execution_count": 19,
      "outputs": []
    },
    {
      "cell_type": "code",
      "source": [
        "# reading csv file\n",
        "data = pd.read_csv('/content/sign_mnist_train.csv')\n",
        "\n",
        "# extracting pixel values and class number\n",
        "pixels = data.iloc[ 1:, -784: ].values\n",
        "class_numbers = data.iloc[ 1:, 0].values\n",
        "\n",
        "# converting pixel values to numpy array and reshaping\n",
        "pixels = np.array(pixels, dtype='float32').reshape(-1, 28, 28, 1)\n",
        "\n",
        "# converting class numbers to one-hot encoded labels\n",
        "class_labels = keras.utils.to_categorical(class_numbers, NUM_CLASSES)\n",
        "\n",
        "# creating train and validation data\n",
        "train_data = pixels[: int(train_ratio * dataset)]\n",
        "train_labels = class_labels[: int(train_ratio * dataset)]\n",
        "val_data = pixels[int(train_ratio * dataset): ]\n",
        "val_labels = class_labels[int(train_ratio * dataset): ]"
      ],
      "metadata": {
        "id": "wZeM9Kl0UtoK"
      },
      "execution_count": 20,
      "outputs": []
    },
    {
      "cell_type": "code",
      "source": [
        "# creating train generator\n",
        "train_datagen = ImageDataGenerator(rescale=1./255)\n",
        "train_generator = train_datagen.flow(\n",
        "    x=train_data,\n",
        "    y=train_labels,\n",
        "    batch_size=batch_size)\n",
        "\n",
        "# creating validation generator\n",
        "val_datagen = ImageDataGenerator(rescale=1./255)\n",
        "test_data = val_datagen.flow(\n",
        "    x=val_data,\n",
        "    y=val_labels,\n",
        "    batch_size=batch_size)\n",
        "\n",
        "# compiling model\n",
        "opt = Adam(learning_rate=0.001)\n",
        "model.compile( optimizer=opt, loss=\"categorical_crossentropy\", metrics=['accuracy'])\n",
        "model.fit(\n",
        "    train_generator,\n",
        "    epochs= EPOCHS,\n",
        "    validation_data=test_data)"
      ],
      "metadata": {
        "colab": {
          "base_uri": "https://localhost:8080/"
        },
        "id": "UP3QFAUYUyyG",
        "outputId": "3e0d8ebd-6a03-41af-dfe5-06c3755dccd9"
      },
      "execution_count": 21,
      "outputs": [
        {
          "output_type": "stream",
          "name": "stdout",
          "text": [
            "Epoch 1/10\n",
            "601/601 [==============================] - 51s 84ms/step - loss: 0.9696 - accuracy: 0.7122 - val_loss: 0.0612 - val_accuracy: 0.9926\n",
            "Epoch 2/10\n",
            "601/601 [==============================] - 56s 93ms/step - loss: 0.0900 - accuracy: 0.9746 - val_loss: 0.0070 - val_accuracy: 1.0000\n",
            "Epoch 3/10\n",
            "601/601 [==============================] - 50s 83ms/step - loss: 0.0436 - accuracy: 0.9868 - val_loss: 0.0037 - val_accuracy: 1.0000\n",
            "Epoch 4/10\n",
            "601/601 [==============================] - 54s 90ms/step - loss: 0.0327 - accuracy: 0.9896 - val_loss: 0.0012 - val_accuracy: 1.0000\n",
            "Epoch 5/10\n",
            "601/601 [==============================] - 50s 83ms/step - loss: 0.0234 - accuracy: 0.9926 - val_loss: 0.0016 - val_accuracy: 0.9999\n",
            "Epoch 6/10\n",
            "601/601 [==============================] - 51s 84ms/step - loss: 0.0174 - accuracy: 0.9944 - val_loss: 3.1374e-04 - val_accuracy: 1.0000\n",
            "Epoch 7/10\n",
            "601/601 [==============================] - 50s 83ms/step - loss: 0.0143 - accuracy: 0.9953 - val_loss: 1.6623e-04 - val_accuracy: 1.0000\n",
            "Epoch 8/10\n",
            "601/601 [==============================] - 54s 90ms/step - loss: 0.0173 - accuracy: 0.9941 - val_loss: 2.8872e-04 - val_accuracy: 1.0000\n",
            "Epoch 9/10\n",
            "601/601 [==============================] - 62s 103ms/step - loss: 0.0123 - accuracy: 0.9960 - val_loss: 1.8116e-04 - val_accuracy: 1.0000\n",
            "Epoch 10/10\n",
            "601/601 [==============================] - 49s 82ms/step - loss: 0.0150 - accuracy: 0.9947 - val_loss: 6.4468e-04 - val_accuracy: 1.0000\n"
          ]
        },
        {
          "output_type": "execute_result",
          "data": {
            "text/plain": [
              "<keras.src.callbacks.History at 0x781663a6b190>"
            ]
          },
          "metadata": {},
          "execution_count": 21
        }
      ]
    }
  ]
}
